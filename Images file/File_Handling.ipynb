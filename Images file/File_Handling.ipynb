{
 "cells": [
  {
   "cell_type": "markdown",
   "metadata": {},
   "source": [
    "# Working on Binary Files"
   ]
  },
  {
   "cell_type": "code",
   "execution_count": 3,
   "metadata": {},
   "outputs": [],
   "source": [
    "class File_Copy():\n",
    "     \n",
    "     def __init__(self, source, destination):\n",
    "          self.source = source\n",
    "          self.destination = destination\n",
    "          \n",
    "     def Binary_Files(self):\n",
    "          \"\"\"_summary_\n",
    "              Read the image in png format\n",
    "              and make it copy\n",
    "          \"\"\"\n",
    "          with open(self.source, 'rb') as rf:\n",
    "               with open(self.destination, 'wb') as wb:\n",
    "                    wb.write(rf.read())\n",
    "                    \n",
    "if __name__ == \"__main__\":\n",
    "     files = File_Copy(r\"C:\\Users\\mk744\\OneDrive - Poornima University\\Desktop\\FileHandling\\Images file\\office_pic.png\",\n",
    "             r\"C:\\Users\\mk744\\OneDrive - Poornima University\\Desktop\\FileHandling\\Images file\\office_pic_Copy.png\"\n",
    "             )\n",
    "     \n",
    "     files.Binary_Files()"
   ]
  },
  {
   "cell_type": "code",
   "execution_count": 6,
   "metadata": {},
   "outputs": [],
   "source": [
    "class Read_Image:\n",
    "     \n",
    "     def __init__(self, Source, Destination):\n",
    "          \n",
    "          self.Source = Source\n",
    "          self.Destination = Destination\n",
    "          \n",
    "     def Display(self):\n",
    "          \"\"\"_summary_\n",
    "            Read the image\n",
    "            and make it copy\n",
    "          \"\"\"\n",
    "          \n",
    "          with open(self.Source, 'rb') as rf:\n",
    "               with open(self.Destination, 'wb') as wf:\n",
    "                    wf.write(rf.read())\n",
    "                    \n",
    "                    \n",
    "if __name__ == \"__main__\":\n",
    "     \n",
    "     data = Read_Image(r\"C:\\Users\\mk744\\OneDrive - Poornima University\\Desktop\\FileHandling\\Images file\\MARUFPGI20CS043.jpg\",\n",
    "                    r\"C:\\Users\\mk744\\OneDrive - Poornima University\\Desktop\\FileHandling\\Images file\\MARUFPGI20CS043_Copy.jpg\"\n",
    "                    )\n",
    "     data.Display()"
   ]
  },
  {
   "cell_type": "markdown",
   "metadata": {},
   "source": [
    "# Read and Write the text files\n"
   ]
  },
  {
   "cell_type": "code",
   "execution_count": 9,
   "metadata": {},
   "outputs": [
    {
     "name": "stdout",
     "output_type": "stream",
     "text": [
      "\n",
      "I'm Trying to be a better person as soon as possible\n"
     ]
    }
   ],
   "source": [
    "class Read_Write_Files:\n",
    "     \n",
    "     def __init__(self, filename):\n",
    "          \n",
    "          self.filename = filename\n",
    "          \n",
    "          \n",
    "     def display(self,contents):\n",
    "          \"\"\"_summary_\n",
    "\n",
    "          Args:\n",
    "              contents (file.txt): create\n",
    "              a file.txt file and write \n",
    "              some contents and then read it.\n",
    "          \"\"\"\n",
    "          with open(self.filename, 'w') as files:\n",
    "               files.write(contents)\n",
    "               \n",
    "     \n",
    "     def Read(self):\n",
    "          \"\"\"\n",
    "          Read the file.txt\n",
    "          \"\"\"\n",
    "          with open(self.filename, 'r') as files:\n",
    "               return files.read()\n",
    "          \n",
    "          \n",
    "if __name__ == \"__main__\":\n",
    "     \n",
    "     Ans = Read_Write_Files(\"File.txt\")\n",
    "     Ans.display(\"\\nI'm Trying to be a better person as soon as possible\")\n",
    "     print(Ans.Read())\n",
    "               "
   ]
  },
  {
   "cell_type": "code",
   "execution_count": 10,
   "metadata": {},
   "outputs": [
    {
     "name": "stdout",
     "output_type": "stream",
     "text": [
      "{'name': 'Maruf', 'age': 26, 'gender': 'male'}\n",
      "<class 'str'>\n"
     ]
    }
   ],
   "source": [
    "# more complex data\n",
    "dataset = {'name':'Maruf',\n",
    "           'age': 26,\n",
    "           'gender':'male'\n",
    "           }\n",
    "with open('Sample.txt', 'w') as file:\n",
    "     file.write(str(dataset))\n",
    "     \n",
    "with open(\"Sample.txt\", 'r') as file:\n",
    "     print(file.read())\n",
    "     print(type(file.read()))"
   ]
  },
  {
   "cell_type": "code",
   "execution_count": 11,
   "metadata": {},
   "outputs": [
    {
     "name": "stdout",
     "output_type": "stream",
     "text": [
      "{'Name': 'Maruf', 'Age': 24, 'Gender': 'Male', 'Address': 'Pratap Nagar Jaipur'}\n"
     ]
    }
   ],
   "source": [
    "Address = {\"Name\": \"Maruf\",\n",
    "           \"Age\": 24,\n",
    "           \"Gender\": \"Male\",\n",
    "           \"Address\": \"Pratap Nagar Jaipur\"\n",
    "           }\n",
    "\n",
    "with open(\"Add.txt\", 'w') as wb:\n",
    "     wb.write(str(Address))\n",
    "     \n",
    "with open(\"Add.txt\", 'r') as rb:\n",
    "     print(rb.read())\n",
    "     "
   ]
  },
  {
   "cell_type": "markdown",
   "metadata": {},
   "source": [
    "# Dictionary File Handlers"
   ]
  },
  {
   "cell_type": "code",
   "execution_count": 15,
   "metadata": {},
   "outputs": [
    {
     "name": "stdout",
     "output_type": "stream",
     "text": [
      "{'Name': 'Maruf', 'Age': 24, 'Gender': 'Male', 'Address': 'Pratap Nagar Jaipur'}\n",
      "<class 'dict'>\n"
     ]
    }
   ],
   "source": [
    "class Dictionary_File_Handlers:\n",
    "     \n",
    "     def __init__(self, File_Name):\n",
    "          \n",
    "          self.File_Name = File_Name\n",
    "          \n",
    "     def Write_Dictionary(self, Dictionary):\n",
    "          with open(self.File_Name, 'w') as f:\n",
    "               f.write(str(Dictionary))\n",
    "               \n",
    "     def Read_Dictionary(self):\n",
    "          with open(self.File_Name, 'r') as f:\n",
    "               return eval(f.read())\n",
    "          \n",
    "          \n",
    "if __name__ == \"__main__\":\n",
    "     \n",
    "     Files = Dictionary_File_Handlers(\"text.txt\")\n",
    "     data  = {\"Name\": \"Maruf\",\n",
    "           \"Age\": 24,\n",
    "           \"Gender\": \"Male\",\n",
    "           \"Address\": \"Pratap Nagar Jaipur\"\n",
    "           }\n",
    "     Files.Write_Dictionary(data)\n",
    "     print(Files.Read_Dictionary())\n",
    "     print(type(Files.Read_Dictionary()))"
   ]
  },
  {
   "cell_type": "markdown",
   "metadata": {},
   "source": [
    "# Read and Write the file in Json"
   ]
  },
  {
   "cell_type": "code",
   "execution_count": 16,
   "metadata": {},
   "outputs": [
    {
     "name": "stdout",
     "output_type": "stream",
     "text": [
      "{'Name': 'Maruf', 'Age': 24, 'Gender': 'Male', 'Address': 'Pratap Nagar Jaipur'}\n",
      "<class 'dict'>\n"
     ]
    }
   ],
   "source": [
    "import json\n",
    "class Json_Files:\n",
    "     \n",
    "     def __init__(self, Name):\n",
    "          self.Name = Name\n",
    "          \n",
    "     def Write(self, dicts):\n",
    "          with open(self.Name, 'w') as f:\n",
    "               json.dump(dicts, f, indent= 4)\n",
    "               \n",
    "     def Read(self):\n",
    "          with open(self.Name, 'r') as f:\n",
    "               return json.load(f)\n",
    "          \n",
    "if __name__ == \"__main__\":\n",
    "     \n",
    "     ans = Json_Files(\"Jsons.json\")\n",
    "     data  = {\"Name\": \"Maruf\",\n",
    "           \"Age\": 24,\n",
    "           \"Gender\": \"Male\",\n",
    "           \"Address\": \"Pratap Nagar Jaipur\"\n",
    "           }\n",
    "     ans.Write(data)\n",
    "     print(ans.Read())\n",
    "     print(type(ans.Read()))"
   ]
  },
  {
   "cell_type": "code",
   "execution_count": 18,
   "metadata": {},
   "outputs": [
    {
     "data": {
      "text/plain": [
       "'My name is Maruf and i am 26'"
      ]
     },
     "execution_count": 18,
     "metadata": {},
     "output_type": "execute_result"
    }
   ],
   "source": [
    "class Info():\n",
    "     \n",
    "     def __init__(self, name, age):\n",
    "          self.name = name\n",
    "          self.age = age\n",
    "          \n",
    "     def Getmethod(self):\n",
    "          return f\"My name is {self.name} and i am {self.age}\"\n",
    "     \n",
    "obj = Info('Maruf', 26)\n",
    "\n",
    "import pickle\n",
    "with open(\"info.pkl\", 'wb') as f:\n",
    "     pickle.dump(obj, f)\n",
    "     \n",
    "with open(\"info.pkl\", 'rb') as f:\n",
    "     p = pickle.load(f)\n",
    "     \n",
    "p.Getmethod()\n",
    "          "
   ]
  },
  {
   "cell_type": "code",
   "execution_count": 19,
   "metadata": {},
   "outputs": [
    {
     "name": "stdout",
     "output_type": "stream",
     "text": [
      "Error: [Errno 2] No such file or directory: 'app.txt'\n"
     ]
    }
   ],
   "source": [
    "class Handler_Files:\n",
    "     \n",
    "     def __init__(self, name):\n",
    "          self.name = name\n",
    "          \n",
    "     def Handles(self):\n",
    "          try:\n",
    "               with open(self.name, 'r') as file:\n",
    "                    return file.read()\n",
    "          except FileNotFoundError as e:\n",
    "               print(f\"Error: {e}\")\n",
    "          except Exception as e:\n",
    "               print(f\"An Unexpected Error Occured: {e}\")\n",
    "               \n",
    "               \n",
    "objs = Handler_Files('app.txt')\n",
    "objs.Handles()\n",
    "          "
   ]
  },
  {
   "cell_type": "code",
   "execution_count": 20,
   "metadata": {},
   "outputs": [
    {
     "name": "stdout",
     "output_type": "stream",
     "text": [
      "Data loaded successfully: \n"
     ]
    }
   ],
   "source": [
    "class Data:\n",
    "     \n",
    "     def __init__(self, df):\n",
    "          self.df = df\n",
    "          \n",
    "     def read_data(self):\n",
    "          try:\n",
    "               import pandas as pd\n",
    "               data = pd.read_csv(self.df)\n",
    "               print(\"Data loaded successfully: \")\n",
    "               return data\n",
    "          \n",
    "          except FileNotFoundError :\n",
    "               print(f\"Error: File not found: \")\n",
    "               \n",
    "          except pd.errors.ParserError:\n",
    "               print(f\"Error: File is curropted or improperly Formated. \")\n",
    "               \n",
    "          except Exception as e:\n",
    "               print(f\"An unexpected errors is occured as {e}\")\n",
    "               \n",
    "if __name__ == \"__main__\":\n",
    "     hadles = Data(r\"C:\\Users\\mk744\\Downloads\\Partnerize dataset.csv\")\n",
    "     hadles.read_data()"
   ]
  },
  {
   "cell_type": "code",
   "execution_count": 21,
   "metadata": {},
   "outputs": [
    {
     "name": "stdout",
     "output_type": "stream",
     "text": [
      "Data loaded successfully: \n",
      "                 Id        Date Currency                     Sub_Id  \\\n",
      "0   1101l2236494479  2024-12-20      USD  gmg?uuid=TTV Adblock Plus   \n",
      "1   1101l2236447926  2024-12-20      USD                        gmg   \n",
      "2   1100l2185224486  2024-12-20      USD                       gmgv   \n",
      "3   1011l2248178729  2024-12-20      USD                        gmg   \n",
      "4   1011l2248155957  2024-12-20      USD                        NaN   \n",
      "..              ...         ...      ...                        ...   \n",
      "59  1011l2246168258  2024-12-16      USD                        gmg   \n",
      "60  1100l2182981475  2024-12-16      USD                       gmgv   \n",
      "61  1101l2233486362  2024-12-16      USD                        gmg   \n",
      "62  1101l2233470826  2024-12-16      USD                       gmgv   \n",
      "63  1011l2246111143  2024-12-16      USD                       gmgv   \n",
      "\n",
      "     Campaign_Name Inventory    Status   Payout    Amount Country     Partner  \n",
      "0          tripcom  Xocoupon   pending   1.1895   47.5800      NZ  Partnerize  \n",
      "1          tripcom  Xocoupon   pending   0.4789   19.1552      SG  Partnerize  \n",
      "2            Adobe  Xocoupon   pending  19.0661   22.4308      AU  Partnerize  \n",
      "3       Klook (UK)  Xocoupon   pending   0.0000  448.2606      HK  Partnerize  \n",
      "4   AirAsia Travel  Xocoupon  rejected   0.4157   83.1405      MY  Partnerize  \n",
      "..             ...       ...       ...      ...       ...     ...         ...  \n",
      "59         tripcom  Xocoupon   pending   3.6001  360.0066      US  Partnerize  \n",
      "60           Adobe  Xocoupon   pending   5.9501    7.0001      AU  Partnerize  \n",
      "61         tripcom  Xocoupon  rejected   2.1775  217.7527      IN  Partnerize  \n",
      "62           Adobe  Xocoupon   pending   7.3541    8.6519      IN  Partnerize  \n",
      "63   StubHub NORAM  Xocoupon   pending   6.2736  156.8400      US  Partnerize  \n",
      "\n",
      "[64 rows x 11 columns]\n"
     ]
    }
   ],
   "source": [
    "print(hadles.read_data())"
   ]
  },
  {
   "cell_type": "code",
   "execution_count": 5,
   "metadata": {},
   "outputs": [
    {
     "name": "stdout",
     "output_type": "stream",
     "text": [
      "The file is not exist\n"
     ]
    }
   ],
   "source": [
    "try:\n",
    "     file = open('Samples.txt', 'r') \n",
    "     content = file.read()\n",
    "     print(content)\n",
    "     \n",
    "except FileNotFoundError:\n",
    "     print(\"The file is not exist\")\n",
    "     \n",
    "except Exception as e:\n",
    "     print(e)\n",
    "     \n"
   ]
  },
  {
   "cell_type": "code",
   "execution_count": 28,
   "metadata": {},
   "outputs": [
    {
     "name": "stdout",
     "output_type": "stream",
     "text": [
      "Data written Successfully\n",
      "Data appended Successfully\n",
      "File contents\n",
      "Hello world !Append some more data !\n"
     ]
    }
   ],
   "source": [
    "# Write a Python class to manage reading and writing files.\n",
    "\n",
    "class Read_Write():\n",
    "     \n",
    "     def __init__(self, FileName):\n",
    "          self.FileName = FileName\n",
    "          \n",
    "     def Read_File(self):\n",
    "          try:\n",
    "               with open(self.FileName, 'r') as f:\n",
    "                    content = f.read()\n",
    "               return content\n",
    "          except FileNotFoundError:\n",
    "               print(f\"Error: File Not found error occured:\")\n",
    "          except Exception as e:\n",
    "               print(f\"Error: {e}\")\n",
    "               \n",
    "               \n",
    "     def Write_File(self, content):\n",
    "          try:\n",
    "               with open(self.FileName, 'w') as f:\n",
    "                    f.write(content)\n",
    "               print(\"Data written Successfully\")\n",
    "          except FileNotFoundError:\n",
    "               print(f\"Errors: File not found\")\n",
    "          except Exception as e:\n",
    "               print(f\"Error: Error is occurring\")\n",
    "               \n",
    "     \n",
    "     def Append_to_File(self, content):\n",
    "          try:\n",
    "               with open(self.FileName, 'a') as f:\n",
    "                    f.write(content)\n",
    "          \n",
    "               print(\"Data appended Successfully\")\n",
    "          except FileNotFoundError:\n",
    "               print(f\"Error: File not found\")\n",
    "          except Exception as e:\n",
    "               print(f\"An Error is occurred.\")\n",
    "               \n",
    "               \n",
    "if __name__ == \"__main__\":\n",
    "     file = Read_Write('Examples.txt')\n",
    "     file.Write_File(\"Hello world !\")\n",
    "     file.Append_to_File(\"Append some more data !\")\n",
    "     content = file.Read_File()\n",
    "     if content:\n",
    "          print('File contents')\n",
    "          print(content)\n",
    "     "
   ]
  },
  {
   "cell_type": "code",
   "execution_count": 3,
   "metadata": {},
   "outputs": [
    {
     "name": "stdout",
     "output_type": "stream",
     "text": [
      "File loaded Successfully\n"
     ]
    }
   ],
   "source": [
    "import pandas as pd\n",
    "import logging\n",
    "\n",
    "logging.basicConfig(filename = \"Corruption.log\", level=logging.ERROR)\n",
    "\n",
    "def Proceesed_File(Filepath):\n",
    "     try:\n",
    "          data = pd.read_csv(Filepath, on_bad_lines='skip')\n",
    "          print(\"File loaded Successfully\")\n",
    "          return data\n",
    "     \n",
    "     except pd.errors.ParserError:\n",
    "          logging.error(\"Parser error occurred. File may be corrupted\")\n",
    "          print(\"Encoding issue with the file. Check the logs for details\")\n",
    "          \n",
    "     except UnicodeDecodeError:\n",
    "          logging.error(\"Encoding error occurred.\")\n",
    "          print(\"Encoding issue with the file.\")\n",
    "     \n",
    "     except Exception as e:\n",
    "          logging.error(f\"An unexpected error occurred: {e}\")\n",
    "          print(\"An error occurred. Check the logs for details.\")\n",
    "          return pd.DataFrame\n",
    "     \n",
    "     \n",
    "if __name__ == \"__main__\":\n",
    "     data = r'C:\\Users\\mk744\\OneDrive - Poornima University\\Desktop\\FileHandling\\Images file\\Currupted_File.csv'\n",
    "     Proceesed_File(data)     \n",
    "          \n",
    "     "
   ]
  },
  {
   "cell_type": "code",
   "execution_count": 33,
   "metadata": {},
   "outputs": [
    {
     "name": "stdout",
     "output_type": "stream",
     "text": [
      "File read successfully.\n"
     ]
    }
   ],
   "source": [
    "import pandas as pd\n",
    "import logging\n",
    "\n",
    "# Configure logging\n",
    "logging.basicConfig(filename=\"corruption.log\", level=logging.ERROR)\n",
    "\n",
    "def process_file(file_path):\n",
    "    try:\n",
    "        # Read the file with error handling for bad lines\n",
    "        data = pd.read_csv(file_path, on_bad_lines='skip')\n",
    "        print(\"File read successfully.\")\n",
    "        return data\n",
    "    except pd.errors.ParserError:\n",
    "        logging.error(\"Parser error occurred. File may be corrupted.\")\n",
    "        print(\"The file is corrupted. Check the logs for details.\")\n",
    "    except UnicodeDecodeError:\n",
    "        logging.error(\"Encoding error occurred. Try specifying a different encoding.\")\n",
    "        print(\"Encoding issue with the file. Check the logs for details.\")\n",
    "    except Exception as e:\n",
    "        logging.error(f\"An unexpected error occurred: {e}\")\n",
    "        print(\"An error occurred. Check the logs for details.\")\n",
    "        return pd.DataFrame()\n",
    "\n",
    "# Example usage\n",
    "file_path = r\"C:\\Users\\mk744\\OneDrive - Poornima University\\Desktop\\FileHandling\\Images file\\Currupted_File.csv\"\n",
    "data = process_file(file_path)\n"
   ]
  },
  {
   "cell_type": "code",
   "execution_count": null,
   "metadata": {},
   "outputs": [],
   "source": []
  }
 ],
 "metadata": {
  "kernelspec": {
   "display_name": "Python 3",
   "language": "python",
   "name": "python3"
  },
  "language_info": {
   "codemirror_mode": {
    "name": "ipython",
    "version": 3
   },
   "file_extension": ".py",
   "mimetype": "text/x-python",
   "name": "python",
   "nbconvert_exporter": "python",
   "pygments_lexer": "ipython3",
   "version": "3.10.8"
  }
 },
 "nbformat": 4,
 "nbformat_minor": 2
}
